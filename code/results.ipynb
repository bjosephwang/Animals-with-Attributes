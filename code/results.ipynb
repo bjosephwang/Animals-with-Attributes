{
 "cells": [
  {
   "cell_type": "code",
   "execution_count": 1,
   "metadata": {},
   "outputs": [],
   "source": [
    "import test_attribute as ta\n",
    "import matplotlib.pyplot as plt\n",
    "import numpy as np"
   ]
  },
  {
   "cell_type": "code",
   "execution_count": 2,
   "metadata": {},
   "outputs": [
    {
     "name": "stderr",
     "output_type": "stream",
     "text": [
      "/home/dominik/anaconda3/lib/python3.6/site-packages/sklearn/base.py:311: UserWarning: Trying to unpickle estimator LogisticRegression from version 0.19.0 when using version 0.19.1. This might lead to breaking code or invalid results. Use at your own risk.\n",
      "  UserWarning)\n"
     ]
    },
    {
     "name": "stdout",
     "output_type": "stream",
     "text": [
      "Score for attribute black:\n",
      "0.5406148867313916\n",
      "Score for attribute white:\n",
      "0.5703883495145631\n",
      "Score for attribute blue:\n",
      "0.7940129449838188\n",
      "Score for attribute brown:\n",
      "0.5053398058252427\n",
      "Score for attribute gray:\n",
      "0.5323624595469255\n",
      "Score for attribute orange:\n",
      "0.9302588996763754\n",
      "Score for attribute red:\n",
      "0.9998381877022654\n",
      "Score for attribute yellow:\n",
      "0.9118122977346278\n",
      "Score for attribute patches:\n",
      "0.5674757281553398\n",
      "Score for attribute spots:\n",
      "0.5116504854368932\n",
      "Score for attribute stripes:\n",
      "0.8851132686084142\n",
      "Score for attribute furry:\n",
      "0.732200647249191\n",
      "Score for attribute hairless:\n",
      "0.7092233009708738\n",
      "Score for attribute toughskin:\n",
      "0.7051779935275081\n",
      "Score for attribute big:\n",
      "0.7030744336569579\n",
      "Score for attribute small:\n",
      "0.5991909385113269\n",
      "Score for attribute bulbous:\n",
      "0.5459546925566343\n",
      "Score for attribute lean:\n",
      "0.47443365695792883\n",
      "Score for attribute flippers:\n",
      "0.874757281553398\n",
      "Score for attribute hands:\n",
      "0.8946601941747573\n",
      "Score for attribute hooves:\n",
      "0.7268608414239482\n",
      "Score for attribute pads:\n",
      "0.6182847896440129\n",
      "Score for attribute paws:\n",
      "0.6773462783171521\n",
      "Score for attribute longleg:\n",
      "0.6825242718446602\n",
      "Score for attribute longneck:\n",
      "0.8826860841423948\n",
      "Score for attribute tail:\n",
      "0.686084142394822\n",
      "Score for attribute chewteeth:\n",
      "0.6637540453074434\n",
      "Score for attribute meatteeth:\n",
      "0.5407766990291262\n",
      "Score for attribute buckteeth:\n",
      "0.7038834951456311\n",
      "Score for attribute strainteeth:\n",
      "0.7954692556634304\n",
      "Score for attribute horns:\n",
      "0.8385113268608414\n",
      "Score for attribute claws:\n",
      "0.5788025889967637\n",
      "Score for attribute tusks:\n",
      "0.9744336569579288\n",
      "Score for attribute smelly:\n",
      "0.5247572815533981\n",
      "Score for attribute flys:\n",
      "0.9985436893203884\n",
      "Score for attribute hops:\n",
      "0.9584142394822006\n",
      "Score for attribute swims:\n",
      "0.7969255663430421\n",
      "Score for attribute tunnels:\n",
      "0.9380258899676376\n",
      "Score for attribute walks:\n",
      "0.8576051779935275\n",
      "Score for attribute fast:\n",
      "0.6873786407766991\n",
      "Score for attribute slow:\n",
      "0.5084142394822007\n",
      "Score for attribute strong:\n",
      "0.7271844660194174\n",
      "Score for attribute weak:\n",
      "0.8412621359223301\n",
      "Score for attribute muscle:\n",
      "0.5697411003236246\n",
      "Score for attribute bipedal:\n",
      "0.7411003236245954\n",
      "Score for attribute quadrapedal:\n",
      "0.8686084142394822\n",
      "Score for attribute active:\n",
      "0.49207119741100325\n",
      "Score for attribute inactive:\n",
      "0.5462783171521035\n",
      "Score for attribute nocturnal:\n",
      "0.6975728155339805\n",
      "Score for attribute hibernate:\n",
      "0.7614886731391586\n",
      "Score for attribute agility:\n",
      "0.598705501618123\n",
      "Score for attribute fish:\n",
      "0.37087378640776697\n",
      "Score for attribute meat:\n",
      "0.5619741100323624\n",
      "Score for attribute plankton:\n",
      "0.9114886731391586\n",
      "Score for attribute vegetation:\n",
      "0.580906148867314\n",
      "Score for attribute insects:\n",
      "0.8377022653721683\n",
      "Score for attribute forager:\n",
      "0.5894822006472492\n",
      "Score for attribute grazer:\n",
      "0.5634304207119741\n",
      "Score for attribute hunter:\n",
      "0.5933656957928802\n",
      "Score for attribute scavenger:\n",
      "0.8328478964401295\n",
      "Score for attribute skimmer:\n",
      "0.8872168284789644\n",
      "Score for attribute stalker:\n",
      "0.7723300970873787\n",
      "Score for attribute newworld:\n",
      "0.7555016181229773\n",
      "Score for attribute oldworld:\n",
      "0.9245954692556634\n",
      "Score for attribute arctic:\n",
      "0.816990291262136\n",
      "Score for attribute coastal:\n",
      "0.841747572815534\n",
      "Score for attribute desert:\n",
      "0.9991909385113269\n",
      "Score for attribute bush:\n",
      "0.6199029126213592\n",
      "Score for attribute plains:\n",
      "0.6014563106796117\n",
      "Score for attribute forest:\n",
      "0.620873786407767\n",
      "Score for attribute fields:\n",
      "0.6357605177993527\n",
      "Score for attribute jungle:\n",
      "0.5713592233009709\n",
      "Score for attribute mountains:\n",
      "0.6687702265372168\n",
      "Score for attribute ocean:\n",
      "0.8792880258899677\n",
      "Score for attribute ground:\n",
      "0.8632686084142395\n",
      "Score for attribute water:\n",
      "0.7970873786407767\n",
      "Score for attribute tree:\n",
      "0.5728155339805825\n",
      "Score for attribute cave:\n",
      "0.9579288025889967\n",
      "Score for attribute fierce:\n",
      "0.5218446601941747\n",
      "Score for attribute timid:\n",
      "0.5765372168284789\n",
      "Score for attribute smart:\n",
      "0.6637540453074434\n",
      "Score for attribute group:\n",
      "0.5441747572815534\n",
      "Score for attribute solitary:\n",
      "0.6006472491909385\n",
      "Score for attribute nestspot:\n",
      "0.5444983818770227\n",
      "Score for attribute domestic:\n",
      "0.5733009708737864\n"
     ]
    }
   ],
   "source": [
    "s1 = ta.testAllLogRegAccuracy()"
   ]
  },
  {
   "cell_type": "markdown",
   "metadata": {},
   "source": [
    "## Skuteczność każdego z klasyfikatorów na danych testowych"
   ]
  },
  {
   "cell_type": "code",
   "execution_count": 3,
   "metadata": {
    "scrolled": true
   },
   "outputs": [
    {
     "data": {
      "text/plain": [
       "<Container object of 85 artists>"
      ]
     },
     "execution_count": 3,
     "metadata": {},
     "output_type": "execute_result"
    },
    {
     "data": {
      "image/png": "[encoded data removed]",
      "text/plain": [
       "<matplotlib.figure.Figure at 0x7f6dfbca6160>"
      ]
     },
     "metadata": {},
     "output_type": "display_data"
    }
   ],
   "source": [
    "plt.title('Classifiers scores')\n",
    "plt.bar(np.arange(85), s1, 0.7)"
   ]
  },
  {
   "cell_type": "code",
   "execution_count": 4,
   "metadata": {
    "scrolled": true
   },
   "outputs": [
    {
     "name": "stderr",
     "output_type": "stream",
     "text": [
      "/home/dominik/anaconda3/lib/python3.6/site-packages/sklearn/base.py:311: UserWarning: Trying to unpickle estimator LogisticRegressionCV from version 0.19.0 when using version 0.19.1. This might lead to breaking code or invalid results. Use at your own risk.\n",
      "  UserWarning)\n"
     ]
    },
    {
     "name": "stdout",
     "output_type": "stream",
     "text": [
      "Score for attribute black:\n",
      "0.5355987055016181\n",
      "Score for attribute white:\n",
      "0.5687702265372169\n",
      "Score for attribute blue:\n",
      "0.7957928802588997\n",
      "Score for attribute brown:\n",
      "0.5045307443365695\n",
      "Score for attribute gray:\n",
      "0.5300970873786408\n",
      "Score for attribute orange:\n",
      "0.9286407766990291\n",
      "Score for attribute red:\n",
      "0.9988673139158576\n",
      "Score for attribute yellow:\n",
      "0.9100323624595469\n",
      "Score for attribute patches:\n",
      "0.5637540453074433\n",
      "Score for attribute spots:\n",
      "0.5134304207119741\n",
      "Score for attribute stripes:\n",
      "0.8849514563106796\n",
      "Score for attribute furry:\n",
      "0.7313915857605178\n",
      "Score for attribute hairless:\n",
      "0.706957928802589\n",
      "Score for attribute toughskin:\n",
      "0.7022653721682848\n",
      "Score for attribute big:\n",
      "0.7029126213592233\n",
      "Score for attribute small:\n",
      "0.5991909385113269\n",
      "Score for attribute bulbous:\n",
      "0.5477346278317152\n",
      "Score for attribute lean:\n",
      "0.47588996763754043\n",
      "Score for attribute flippers:\n",
      "0.8729773462783171\n",
      "Score for attribute hands:\n",
      "0.8949838187702266\n",
      "Score for attribute hooves:\n",
      "0.7281553398058253\n",
      "Score for attribute pads:\n",
      "0.6176375404530744\n",
      "Score for attribute paws:\n",
      "0.6739482200647249\n",
      "Score for attribute longleg:\n",
      "0.6825242718446602\n",
      "Score for attribute longneck:\n",
      "0.8799352750809062\n",
      "Score for attribute tail:\n",
      "0.6864077669902913\n",
      "Score for attribute chewteeth:\n",
      "0.6622977346278317\n",
      "Score for attribute meatteeth:\n",
      "0.5411003236245955\n",
      "Score for attribute buckteeth:\n",
      "0.7024271844660194\n",
      "Score for attribute strainteeth:\n",
      "0.7967637540453074\n",
      "Score for attribute horns:\n",
      "0.8396440129449838\n",
      "Score for attribute claws:\n",
      "0.5788025889967637\n",
      "Score for attribute tusks:\n",
      "0.9711974110032362\n",
      "Score for attribute smelly:\n",
      "0.5271844660194175\n",
      "Score for attribute flys:\n",
      "0.9975728155339806\n",
      "Score for attribute hops:\n",
      "0.9555016181229773\n",
      "Score for attribute swims:\n",
      "0.7961165048543689\n",
      "Score for attribute tunnels:\n",
      "0.9362459546925567\n",
      "Score for attribute walks:\n",
      "0.8543689320388349\n",
      "Score for attribute fast:\n",
      "0.6857605177993528\n",
      "Score for attribute slow:\n",
      "0.5058252427184466\n",
      "Score for attribute strong:\n",
      "0.7276699029126213\n",
      "Score for attribute weak:\n",
      "0.8372168284789644\n",
      "Score for attribute muscle:\n",
      "0.568284789644013\n",
      "Score for attribute bipedal:\n",
      "0.7393203883495145\n",
      "Score for attribute quadrapedal:\n",
      "0.8669902912621359\n",
      "Score for attribute active:\n",
      "0.494336569579288\n",
      "Score for attribute inactive:\n",
      "0.5444983818770227\n",
      "Score for attribute nocturnal:\n",
      "0.6962783171521035\n",
      "Score for attribute hibernate:\n",
      "0.7593851132686085\n",
      "Score for attribute agility:\n",
      "0.5991909385113269\n",
      "Score for attribute fish:\n",
      "0.37346278317152104\n",
      "Score for attribute meat:\n",
      "0.5614886731391586\n",
      "Score for attribute plankton:\n",
      "0.9144012944983819\n",
      "Score for attribute vegetation:\n",
      "0.580906148867314\n",
      "Score for attribute insects:\n",
      "0.8372168284789644\n",
      "Score for attribute forager:\n",
      "0.5894822006472492\n",
      "Score for attribute grazer:\n",
      "0.5624595469255663\n",
      "Score for attribute hunter:\n",
      "0.5946601941747572\n",
      "Score for attribute scavenger:\n",
      "0.8302588996763755\n",
      "Score for attribute skimmer:\n",
      "0.8894822006472491\n",
      "Score for attribute stalker:\n",
      "0.7723300970873787\n",
      "Score for attribute newworld:\n",
      "0.7569579288025889\n",
      "Score for attribute oldworld:\n",
      "0.9194174757281554\n",
      "Score for attribute arctic:\n",
      "0.8140776699029126\n",
      "Score for attribute coastal:\n",
      "0.8412621359223301\n",
      "Score for attribute desert:\n",
      "0.9985436893203884\n",
      "Score for attribute bush:\n",
      "0.61957928802589\n",
      "Score for attribute plains:\n",
      "0.5967637540453075\n",
      "Score for attribute forest:\n",
      "0.6173139158576052\n",
      "Score for attribute fields:\n",
      "0.6362459546925566\n",
      "Score for attribute jungle:\n",
      "0.5687702265372169\n",
      "Score for attribute mountains:\n",
      "0.6679611650485436\n",
      "Score for attribute ocean:\n",
      "0.8755663430420711\n",
      "Score for attribute ground:\n",
      "0.861326860841424\n",
      "Score for attribute water:\n",
      "0.7961165048543689\n",
      "Score for attribute tree:\n",
      "0.5733009708737864\n",
      "Score for attribute cave:\n",
      "0.9537216828478965\n",
      "Score for attribute fierce:\n",
      "0.5233009708737864\n",
      "Score for attribute timid:\n",
      "0.5779935275080906\n",
      "Score for attribute smart:\n",
      "0.661326860841424\n",
      "Score for attribute group:\n",
      "0.5419093851132686\n",
      "Score for attribute solitary:\n",
      "0.6001618122977346\n",
      "Score for attribute nestspot:\n",
      "0.5432038834951456\n",
      "Score for attribute domestic:\n",
      "0.5728155339805825\n"
     ]
    }
   ],
   "source": [
    "s2 = ta.testAllLogRegCVAccuracy()"
   ]
  },
  {
   "cell_type": "markdown",
   "metadata": {},
   "source": [
    "## Skuteczność każdego z klasyfikatorów wykorzystujących walidację krzyżową na danych testowych"
   ]
  },
  {
   "cell_type": "code",
   "execution_count": 5,
   "metadata": {},
   "outputs": [
    {
     "data": {
      "text/plain": [
       "<Container object of 85 artists>"
      ]
     },
     "execution_count": 5,
     "metadata": {},
     "output_type": "execute_result"
    },
    {
     "data": {
      "image/png": "[encoded data removed]",
      "text/plain": [
       "<matplotlib.figure.Figure at 0x7f6dfb9e3898>"
      ]
     },
     "metadata": {},
     "output_type": "display_data"
    }
   ],
   "source": [
    "plt.title('Classifiers scores')\n",
    "plt.bar(np.arange(85), s2, 0.7)"
   ]
  },
  {
   "cell_type": "markdown",
   "metadata": {},
   "source": [
    "## Ogólna skuteczność pierwszych klasyfikatorów razem z confusion matrix"
   ]
  },
  {
   "cell_type": "code",
   "execution_count": 6,
   "metadata": {
    "scrolled": true
   },
   "outputs": [
    {
     "name": "stderr",
     "output_type": "stream",
     "text": [
      "/home/dominik/anaconda3/lib/python3.6/site-packages/sklearn/base.py:311: UserWarning: Trying to unpickle estimator LogisticRegression from version 0.19.0 when using version 0.19.1. This might lead to breaking code or invalid results. Use at your own risk.\n",
      "  UserWarning)\n"
     ]
    },
    {
     "name": "stdout",
     "output_type": "stream",
     "text": [
      "Total average score:  0.28365695792880263\n"
     ]
    }
   ],
   "source": [
    "p1, cm1 = ta.scoreClassifiers(ta.cd.test_classes, ta.inputLogReg_pattern_simple)"
   ]
  },
  {
   "cell_type": "markdown",
   "metadata": {},
   "source": [
    "Skuteczność : 28.3%\n",
    "\n",
    "Confusion matrix:"
   ]
  },
  {
   "cell_type": "code",
   "execution_count": 7,
   "metadata": {},
   "outputs": [
    {
     "name": "stdout",
     "output_type": "stream",
     "text": [
      "[[151  25  13   5  50  23  44 139  38  35]\n",
      " [ 15 111  13  14  37  30   5  34  21  11]\n",
      " [ 86  76 283  10  47 123  26 130  32 151]\n",
      " [  5 136   4 550 132  12   6  16   8   6]\n",
      " [ 10  27   9  79  48   6  10  23   5   8]\n",
      " [ 78  85 111  10  46 321  38 195  55 164]\n",
      " [257  44  50   6  50  84 112 158  42 144]\n",
      " [  6   6   8   1   9   7   2  18   5   6]\n",
      " [ 82 206  97  39  81  90  54 203 118  67]\n",
      " [ 24   7  20   2   9   5   6  26   7  41]]\n"
     ]
    }
   ],
   "source": [
    "print(cm1)"
   ]
  },
  {
   "cell_type": "markdown",
   "metadata": {},
   "source": [
    "## Ogólna skuteczność drugich klasyfikatorów razem z confusion matrix"
   ]
  },
  {
   "cell_type": "code",
   "execution_count": 8,
   "metadata": {
    "scrolled": true
   },
   "outputs": [
    {
     "name": "stderr",
     "output_type": "stream",
     "text": [
      "/home/dominik/anaconda3/lib/python3.6/site-packages/sklearn/base.py:311: UserWarning: Trying to unpickle estimator LogisticRegressionCV from version 0.19.0 when using version 0.19.1. This might lead to breaking code or invalid results. Use at your own risk.\n",
      "  UserWarning)\n"
     ]
    },
    {
     "name": "stdout",
     "output_type": "stream",
     "text": [
      "Total average score:  0.28689320388349515\n"
     ]
    }
   ],
   "source": [
    "p2, cm2 = ta.scoreClassifiers(ta.cd.test_classes, ta.inputLogRegCV_pattern)"
   ]
  },
  {
   "cell_type": "markdown",
   "metadata": {},
   "source": [
    "Skuteczność : 28.6%\n",
    "\n",
    "Confusion matrix:"
   ]
  },
  {
   "cell_type": "code",
   "execution_count": 9,
   "metadata": {},
   "outputs": [
    {
     "name": "stdout",
     "output_type": "stream",
     "text": [
      "[[149  26  12   6  45  24  42 131  37  37]\n",
      " [ 13 124  13  17  48  31   4  34  21   8]\n",
      " [ 85  81 286   9  49 128  26 132  34 152]\n",
      " [  3  94   4 506  81   5   4  11   3   4]\n",
      " [ 10  44   9 108  85   8  10  25   5  11]\n",
      " [ 71  77 102   9  43 316  41 187  51 149]\n",
      " [260  39  47   8  50  81 109 152  35 138]\n",
      " [  6   7   8   1   5   7   2  20   6  11]\n",
      " [ 90 220 102  49  91  96  56 219 131  76]\n",
      " [ 27  11  25   3  12   5   9  31   8  47]]\n"
     ]
    }
   ],
   "source": [
    "print(cm2)"
   ]
  }
 ],
 "metadata": {
  "kernelspec": {
   "display_name": "Python 3",
   "language": "python",
   "name": "python3"
  },
  "language_info": {
   "codemirror_mode": {
    "name": "ipython",
    "version": 3
   },
   "file_extension": ".py",
   "mimetype": "text/x-python",
   "name": "python",
   "nbconvert_exporter": "python",
   "pygments_lexer": "ipython3",
   "version": "3.6.2"
  }
 },
 "nbformat": 4,
 "nbformat_minor": 2
}
